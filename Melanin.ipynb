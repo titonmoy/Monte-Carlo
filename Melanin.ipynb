{
 "cells": [
  {
   "cell_type": "markdown",
   "metadata": {},
   "source": [
    "# MONTE CARLO SIMULATION OF LIGHT-TISSUE INTERACTION: EFFECT OF MELANIN ON LIGHT ABSORPTION"
   ]
  },
  {
   "cell_type": "markdown",
   "metadata": {},
   "source": [
    "Epidermis is the outermost layer of the skin and it acts as the physical and chemical barrier between the interior body and the exterior environment. It primarily consists of keratinocytes, melanocytes, Langerhans cells, and Markel cells. Melanocytes produce melanin- a natural pigment responsible for the color of our skin, hair, and eyes. Due to its light absorbing characteristics, melanin acts as a photoprotective substance of the human skin. Through a process called melanogenesis, melanin protects our skin by absorbing and reradiating harmful UV radiation and reduces the chance of melanoma.\n",
    "\n",
    "<img src=\"images/Epidermis.jpg\" width=\"400\" />"
   ]
  },
  {
   "cell_type": "markdown",
   "metadata": {},
   "source": [
    "In this project, I wish to simulate the light absorbing characteristics of melanin. However, modeling the light-tissue interaction in a turbid media like epidermal tissue using conventional deterministic method is difficult because of the inherent stochasticity of the process [1]. When light is incident on the tissue surface, it can randomly be reflected from the surface or refracted into the tissue. Light that finally enters the tissue are scattered randomly within the tissue. Some light may transmit through the tissue, some are reflected into incident medium while some are absorbed by the tissue.\n",
    "\n",
    "<img src=\"images/LightInTissue.png\" width=\"400\" />\n",
    "\n",
    "Due to this stochastic nature of light-tissue interaction, I will use Monte Carlo method for simulating the light absorbing behavior of melanin. Monte Carlo method is a computational technique, invented by Stanislaw Ulam in 1946, that uses repeated random sampling to estimate some functions of probability distribution. I will be using the random walk variant of the Monte Carlo method which relies on taking repeated random steps through a space."
   ]
  },
  {
   "cell_type": "markdown",
   "metadata": {},
   "source": [
    "## Random Walk of Photon in Tissue\n",
    "\n",
    "The random walk of light in epidermis follows the flowchart below. \n",
    "\n",
    "<img src=\"images/BlockDiagram.png\" width=\"700\" />\n",
    "\n",
    "A narrow-collimated photon is launched into the tissue and initially it is directed downwards. A random step size is then calculated using, and a check is done to see whether the photon hits the boundary or not. If the photon hits any of the top or bottom boundary, necessary adjustments to the step are made, and the photon is either reflected into the tissue or transmitted to the top or bottom medium. If the photon transmits to other medium, it is terminated. Otherwise, the photon is moved within the tissue. At the new position, a fraction of the photon energy is absorbed by the tissue and the photon is scattered in random direction. A random step size is calculated again and the photon wanders around the tissue in this manner until its energy has been fully absorbed. In that case, the photon is assumed to be dead and is terminated. The next photon is then launched. [2]"
   ]
  },
  {
   "cell_type": "markdown",
   "metadata": {},
   "source": [
    "I have implemented each step of the random walk in separate functions and then aggregated them in a single *RandomWalk* function. You will find these functions in their respective scripts in the **functions** directory of this repository. Each function is accompanied with a docstring, describing the function definition, input and output arguments."
   ]
  },
  {
   "cell_type": "markdown",
   "metadata": {},
   "source": [
    "This notebook will walk you through the simulation. For avoiding verbosity, I have omitted the comments and docstrings in this notebook. The simulation can also be run just by executing [Melanin.py](Melanin.py) script."
   ]
  },
  {
   "cell_type": "markdown",
   "metadata": {},
   "source": [
    "### Import Necessary Libararies"
   ]
  },
  {
   "cell_type": "code",
   "execution_count": 1,
   "metadata": {},
   "outputs": [],
   "source": [
    "from random import seed\n",
    "from random import random\n",
    "from math import floor\n",
    "from math import copysign\n",
    "from math import sqrt\n",
    "from math import log\n",
    "from math import pi\n",
    "from math import sin\n",
    "from math import cos\n",
    "from math import tan\n",
    "from math import asin\n",
    "from math import acos\n",
    "\n",
    "import numpy as np\n",
    "\n",
    "from tabulate import tabulate\n",
    "from matplotlib import pyplot as plt"
   ]
  },
  {
   "cell_type": "markdown",
   "metadata": {},
   "source": [
    "### Launching Photon Into the Tissue"
   ]
  },
  {
   "cell_type": "code",
   "execution_count": 2,
   "metadata": {},
   "outputs": [],
   "source": [
    "def LaunchPhoton():\n",
    "    \n",
    "    w = 1.0\n",
    "    \n",
    "    x = 0.0\n",
    "    y = 0.0\n",
    "    z = 0.0\n",
    "    \n",
    "    dpx = 0.0\n",
    "    dpy = 0.0\n",
    "    dpz = 1.0\n",
    "    \n",
    "    return w, x, y, z, dpx, dpy, dpz"
   ]
  },
  {
   "cell_type": "markdown",
   "metadata": {},
   "source": [
    "### Generate a Random Step Size"
   ]
  },
  {
   "cell_type": "code",
   "execution_count": 3,
   "metadata": {},
   "outputs": [],
   "source": [
    "def RandomStep(mu_att):\n",
    "    \n",
    "    s = - log(random()) / mu_att\n",
    "    \n",
    "    return s"
   ]
  },
  {
   "cell_type": "markdown",
   "metadata": {},
   "source": [
    "### Checking Whether the Photon Hits the Boundary or Not"
   ]
  },
  {
   "cell_type": "code",
   "execution_count": 4,
   "metadata": {},
   "outputs": [],
   "source": [
    "def BoundaryCheck(w, x, y, z, dpx, dpy, dpz, s, dDR, dDT, d, n_t, n_m, alpha_critical, epsilon = 1e-9):\n",
    "    \n",
    "    while True:\n",
    "        \n",
    "        if dpz < 0:\n",
    "            sbound = (0 - z) / dpz\n",
    "        elif dpz > 0:\n",
    "            sbound = (d - z) / dpz\n",
    "        else:\n",
    "            break\n",
    "        \n",
    "        if sbound > s:\n",
    "            break\n",
    "        else:\n",
    "            x += sbound * dpx\n",
    "            y += sbound * dpy\n",
    "            z += sbound * dpz\n",
    "            \n",
    "            s -= sbound\n",
    "            \n",
    "            alpha_i = acos(abs(dpz))\n",
    "            \n",
    "            if n_t > n_m:\n",
    "                if alpha_i > alpha_critical:\n",
    "                    dpz = - dpz\n",
    "                    break\n",
    "            else:\n",
    "                alpha_t = asin(n_t * sin(alpha_i) / n_m)\n",
    "                \n",
    "                R = 0.5 * ((sin(alpha_i - alpha_t))**2 / ((sin(alpha_i + alpha_t))**2 + epsilon) + (tan(alpha_i - alpha_t))**2 / ((tan(alpha_i + alpha_t))**2 + epsilon))\n",
    "                \n",
    "                if R < random():\n",
    "                    if dpz < 0:\n",
    "                        dDR += w\n",
    "                    else:\n",
    "                        dDT += w\n",
    "                    \n",
    "                    w = 0\n",
    "                \n",
    "                dpz = - dpz\n",
    "    \n",
    "    return w, x, y, z, dpx, dpy, dpz, s, dDR, dDT"
   ]
  },
  {
   "cell_type": "markdown",
   "metadata": {},
   "source": [
    "### Taking a Step"
   ]
  },
  {
   "cell_type": "code",
   "execution_count": 5,
   "metadata": {},
   "outputs": [],
   "source": [
    "def TakeStep(x, y, z, dpx, dpy, dpz, s):\n",
    "    \n",
    "    x += s * dpx\n",
    "    y += s * dpy\n",
    "    z += s * dpz\n",
    "    \n",
    "    return x, y, z"
   ]
  },
  {
   "cell_type": "markdown",
   "metadata": {},
   "source": [
    "### Absorbing Photon"
   ]
  },
  {
   "cell_type": "code",
   "execution_count": 6,
   "metadata": {},
   "outputs": [],
   "source": [
    "def AbsorbPhoton(w, z, pDW, absFact, dz):\n",
    "    \n",
    "    dw = w * absFact\n",
    "    \n",
    "    if (w - dw) < 0:\n",
    "        dw = w\n",
    "    w -= dw\n",
    "    \n",
    "    nz = floor(z / dz)\n",
    "    pDW[nz] += dw\n",
    "    \n",
    "    return w, pDW"
   ]
  },
  {
   "cell_type": "markdown",
   "metadata": {},
   "source": [
    "### Scattering Photon"
   ]
  },
  {
   "cell_type": "code",
   "execution_count": 7,
   "metadata": {},
   "outputs": [],
   "source": [
    "def ScatterPhoton(dpx, dpy, dpz, g): \n",
    "    \n",
    "    if g == 0:\n",
    "        theta = acos(2 * random() - 1)\n",
    "    else:\n",
    "        theta = acos((1 + g**2 - ((1 - g**2) / (1 - g + 2 * g * random()))**2) / (2 * g))\n",
    "    \n",
    "    psi = 2 * pi * random()\n",
    "    \n",
    "    \n",
    "    if abs(dpz) > 0.9999:\n",
    "        dpx = sin(theta) * cos(psi)\n",
    "        dpy = sin(theta) * sin(psi)\n",
    "        dpz = copysign(cos(theta), dpz)\n",
    "    else:\n",
    "        dpx = sin(theta) * (dpx * dpz * cos(psi) - dpy * sin(psi)) / sqrt(1 - dpz**2) + dpx * cos(theta)\n",
    "        dpy = sin(theta) * (dpy * dpz * cos(psi) - dpx * sin(psi)) / sqrt(1 - dpz**2) + dpy * cos(theta)\n",
    "        dpz = -sin(theta) * cos(psi) * sqrt(1 - dpz**2) + dpz * cos(theta)\n",
    "    \n",
    "    return dpx, dpy, dpz"
   ]
  },
  {
   "cell_type": "markdown",
   "metadata": {},
   "source": [
    "### Aggregate the Functions Together to Take a Random Walk!"
   ]
  },
  {
   "cell_type": "code",
   "execution_count": 8,
   "metadata": {},
   "outputs": [],
   "source": [
    "def RandomWalk(mu_att, absFact, g, n_t, n_m, alpha_critical, d, dz, dDR, dDT, pDW):   \n",
    "    \n",
    "    w, x, y, z, dpx, dpy, dpz = LaunchPhoton()\n",
    "    \n",
    "    while True:\n",
    "        s = RandomStep(mu_att)\n",
    "        w, x, y, z, dpx, dpy, dpz, s, dDR, dDT = BoundaryCheck(w, x, y, z, dpx, dpy, dpz, s, dDR, dDT, d, n_t, n_m, alpha_critical)\n",
    "        \n",
    "        if w <= 0:\n",
    "            break\n",
    "        \n",
    "        x, y, z = TakeStep(x, y, z, dpx, dpy, dpz, s)\n",
    "        w, pDW = AbsorbPhoton(w, z, pDW, absFact, dz)\n",
    "        \n",
    "        if w <= 0:\n",
    "            break\n",
    "        \n",
    "        dpx, dpy, dpz = ScatterPhoton(dpx, dpy, dpz, g)\n",
    "    \n",
    "    return dDR, dDT, pDW"
   ]
  },
  {
   "cell_type": "markdown",
   "metadata": {},
   "source": [
    "## Effect of Melanin Concentration"
   ]
  },
  {
   "cell_type": "markdown",
   "metadata": {},
   "source": [
    "Let's first simulate the effect of melanin concentration on light absorption. I considere an in vitro setup where the epidermis is covered in a pair of coverslips.\n",
    "\n",
    "<img src=\"images/Setup.png\" width=\"400\" />\n",
    "\n",
    "The thickness of the tissue $d$ is $100 \\mu m$. For $550 nm$ light, the scattering coefficient $\\mu_s$, refractive index $n_t$, and anisotropy of scatter $g$ for epidermis is $74.7 cm^{-1}$, $1.447$, and $0.759$, respectively. The refractive index of the coverslip is $1.5$. The melanin concentration has been divided into three levels- light, medium, and high, corresponding to $1.3-6.3\\%$, $11-16\\%$, and $18-43\\%$ volume fraction of epidermis occupied by melanin, respectively. Their corresponding absorption coefficient $\\mu_a$ is given in table below. [3]\n",
    "\n",
    "|Melanin Concentration|Light | Medium | High  |\n",
    "|---------------------|------|--------|-------|\n",
    "|$\\mu_a (cm^{-1})$    |$1.63$|$6.85$  |$16.13$|\n",
    "\n",
    "\n",
    "For each level of melanin concentration, 5 million photons will be launched into the epidermis and the following metrics will be scored-\n",
    "- how much photon energy have escaped from the boundary of the tissue where the light was incident (diffuse reflectance)\n",
    "- how much photon energy have escaped from the opposite boundary (diffuse transmittance)\n",
    "- how much photon energy have been absorbed at various depths (absorption)."
   ]
  },
  {
   "cell_type": "code",
   "execution_count": 9,
   "metadata": {},
   "outputs": [
    {
     "name": "stdout",
     "output_type": "stream",
     "text": [
      "\n",
      "\n",
      "Melanin Level      Diffuse Transmittance    Diffuse Reflectance    Absorption\n",
      "---------------  -----------------------  ---------------------  ------------\n",
      "Low                             0.388032              0.332539       0.279429\n",
      "Medium                          0.159724              0.157917       0.682359\n",
      "High                            0.042999              0.0681065      0.888894\n",
      "\n",
      "\n"
     ]
    },
    {
     "data": {
      "text/plain": [
       "<matplotlib.legend.Legend at 0x7fcfdf540970>"
      ]
     },
     "execution_count": 9,
     "metadata": {},
     "output_type": "execute_result"
    },
    {
     "data": {
      "image/png": "[encoded data removed]",
      "text/plain": [
       "<Figure size 432x288 with 1 Axes>"
      ]
     },
     "metadata": {
      "needs_background": "light"
     },
     "output_type": "display_data"
    }
   ],
   "source": [
    "sMelaninLevel = ['Low', 'Medium', 'High']\n",
    "mu_as = np.array([1.63, 6.85, 16.13])\n",
    "mu_s = 74.7\n",
    "g = 0.759\n",
    "n_t = 1.447\n",
    "n_m = 1.5\n",
    "d = 0.1\n",
    "\n",
    "mu_atts = mu_as + mu_s\n",
    "absFacts = mu_as / mu_atts\n",
    "\n",
    "if n_t > n_m:\n",
    "        alpha_critical = asin(n_m / n_t)\n",
    "else:\n",
    "    alpha_critical = float('nan')\n",
    "\n",
    "N_bins = int(1e3)\n",
    "dz = d / N_bins\n",
    "\n",
    "pDW = np.zeros((3, N_bins))\n",
    "dDR = np.zeros(3)\n",
    "dDT = np.zeros(3)\n",
    "\n",
    "N_photons = int(5e6)\n",
    "\n",
    "for n, (mu_att, absFact) in enumerate(zip(mu_atts, absFacts)):\n",
    "    for nph in range(N_photons):\n",
    "        dDR[n], dDT[n], pDW[n] = RandomWalk(mu_att, absFact, g, n_t, n_m, alpha_critical, d, dz, dDR[n], dDT[n], pDW[n])\n",
    "\n",
    "\n",
    "dDR /= N_photons\n",
    "dDT /= N_photons\n",
    "dDW = np.sum(pDW, axis = 1) / N_photons\n",
    "\n",
    "print('\\n')\n",
    "print(tabulate({'Melanin Level': sMelaninLevel, 'Diffuse Transmittance': dDT, 'Diffuse Reflectance': dDR, 'Absorption': dDW}, headers = 'keys'))\n",
    "print('\\n')\n",
    "\n",
    "pz = np.arange(0, d, dz)\n",
    "pDW = pDW / (dz * N_photons)\n",
    "plt.figure()\n",
    "plt.semilogy(pz, pDW[0], 'r', label = sMelaninLevel[0])\n",
    "plt.semilogy(pz, pDW[1], 'g', label = sMelaninLevel[1])\n",
    "plt.semilogy(pz, pDW[2], 'b', label = sMelaninLevel[2])\n",
    "plt.xlabel('Depth (cm)')\n",
    "plt.ylabel('Absorption (cm$^{-1}$)')\n",
    "plt.legend()"
   ]
  },
  {
   "cell_type": "markdown",
   "metadata": {},
   "source": [
    "It is evident from the table above that the higher the melanin concentration, the higher the light absorption. The plot demonstrate the depth profile of absorption in the epidermis. Absorption rate is higher near the surface, and it drops off as we go down the epidermis. The rate drops off more quickly for highly pigmented epidermis than medium and lightly pigmented one. "
   ]
  },
  {
   "cell_type": "markdown",
   "metadata": {},
   "source": [
    "## Effect of Wavelength"
   ]
  },
  {
   "cell_type": "markdown",
   "metadata": {},
   "source": [
    "Next, I will demonstrated the wavelength dependency of light absorption by melanin. I have only considered lightly pigmented epidermis for this part. The wavelengths of light $\\lambda$ being used, and the corresponding optical properties of epidermis are given in the table below. All the other parameters have the same value as stated above. [3]\n",
    "\n",
    "|$\\lambda (nm)$|$\\mu_a (cm^{-1})$|$\\mu_s (cm^{-1})$|$g$  |$n_t$|\n",
    "|--------------|-----------------|-----------------|-----|-----|\n",
    "|350           |30.16            |210.4            |0.702|1.488|\n",
    "|450           |13.5             |121.6            |0.728|1.448|\n",
    "|550           |6.85             |74.7             |0.759|1.447|\n",
    "|650           |3.68             |55.48            |0.787|1.433|\n",
    "\n",
    "For each wavelength of light, 5 million photons have been launched into the epidermis and their absorption depth profile has been recorded. "
   ]
  },
  {
   "cell_type": "code",
   "execution_count": 10,
   "metadata": {},
   "outputs": [
    {
     "name": "stdout",
     "output_type": "stream",
     "text": [
      "\n",
      "\n",
      "  Wavelengths    Diffuse Transmittance    Diffuse Reflectance    Absorption\n",
      "-------------  -----------------------  ---------------------  ------------\n",
      "          350              0.000318329               0.129227      0.870455\n",
      "          450              0.024086                  0.150934      0.82498\n",
      "          550              0.159541                  0.15793       0.682529\n",
      "          650              0.362692                  0.166306      0.471001\n",
      "\n",
      "\n"
     ]
    },
    {
     "data": {
      "text/plain": [
       "<matplotlib.legend.Legend at 0x7fcfb4b4c670>"
      ]
     },
     "execution_count": 10,
     "metadata": {},
     "output_type": "execute_result"
    },
    {
     "data": {
      "image/png": "[encoded data removed]",
      "text/plain": [
       "<Figure size 432x288 with 1 Axes>"
      ]
     },
     "metadata": {
      "needs_background": "light"
     },
     "output_type": "display_data"
    },
    {
     "data": {
      "image/png": "[encoded data removed]",
      "text/plain": [
       "<Figure size 432x288 with 1 Axes>"
      ]
     },
     "metadata": {
      "needs_background": "light"
     },
     "output_type": "display_data"
    }
   ],
   "source": [
    "nWavelengths = np.array([350, 450, 550, 650])\n",
    "mu_as = np.array([30.16, 13.5, 6.85, 3.68])\n",
    "mu_ss = np.array([210.4, 121.6, 74.7, 55.48])\n",
    "gs = np.array([0.702, 0.728, 0.759, 0.787])\n",
    "n_ts = np.array([1.488, 1.448, 1.447, 1.433])\n",
    "n_m = 1.5\n",
    "d = 0.1\n",
    "\n",
    "mu_atts = mu_as + mu_ss\n",
    "absFacts = mu_as / mu_atts\n",
    "\n",
    "alpha_criticals = np.zeros(4)\n",
    "for n, n_t in enumerate(n_ts):\n",
    "    if n_t > n_m:\n",
    "            alpha_criticals[n] = asin(n_m / n_t)\n",
    "    else:\n",
    "        alpha_criticals[n] = float('nan')\n",
    "\n",
    "N_bins = int(1e3)\n",
    "dz = d / N_bins\n",
    "\n",
    "pDW = np.zeros((4, N_bins))\n",
    "dDR = np.zeros(4)\n",
    "dDT = np.zeros(4)\n",
    "\n",
    "N_photons = int(5e6)\n",
    "\n",
    "for n, (mu_att, absFact, g, n_t, alpha_critical) in enumerate(zip(mu_atts, absFacts, gs, n_ts, alpha_criticals)):\n",
    "    for nph in range(N_photons):\n",
    "        dDR[n], dDT[n], pDW[n] = RandomWalk(mu_att, absFact, g, n_t, n_m, alpha_critical, d, dz, dDR[n], dDT[n], pDW[n])\n",
    "\n",
    "        \n",
    "dDR /= N_photons\n",
    "dDT /= N_photons\n",
    "dDW = np.sum(pDW, axis = 1) / N_photons\n",
    "\n",
    "print('\\n')\n",
    "print(tabulate({'Wavelengths': nWavelengths, 'Diffuse Transmittance': dDT, 'Diffuse Reflectance': dDR, 'Absorption': dDW}, headers = 'keys'))\n",
    "print('\\n')\n",
    "\n",
    "pz = np.arange(0, d, dz)\n",
    "pDW = pDW / (dz * N_photons)\n",
    "plt.figure()\n",
    "plt.semilogy(pz, pDW[0], 'r', label = str(nWavelengths[0]) + ' nm')\n",
    "plt.semilogy(pz, pDW[1], 'g', label = str(nWavelengths[1]) + ' nm')\n",
    "plt.semilogy(pz, pDW[2], 'b', label = str(nWavelengths[2]) + ' nm')\n",
    "plt.semilogy(pz, pDW[3], 'k', label = str(nWavelengths[3]) + ' nm')\n",
    "plt.xlabel('Depth (cm)')\n",
    "plt.ylabel('Absorption (cm$^{-1}$)')\n",
    "plt.legend()\n",
    "\n",
    "p = np.polyfit(nWavelengths, dDW, 3)\n",
    "nWaves = np.arange(350, 660, 10)\n",
    "fitted = np.polyval(p, nWaves)\n",
    "plt.figure()\n",
    "plt.plot(nWavelengths, dDW, 'ro', label = 'Original')\n",
    "plt.plot(nWaves, fitted, 'b', label = 'Fitted')\n",
    "plt.xlabel('Wavelength (nm)')\n",
    "plt.ylabel('Absorption')\n",
    "plt.legend()"
   ]
  },
  {
   "cell_type": "markdown",
   "metadata": {},
   "source": [
    "From the above table and plots, it is evident that the lower the wavelength, the higher the light absorption. The depth profile demonstrate that the absorption rate drops off more quickly for the lower wavelengths of light than the higher wavelengths."
   ]
  },
  {
   "cell_type": "markdown",
   "metadata": {},
   "source": [
    "### References\n",
    "\n",
    "1. Zhu, C. and Liu, Q., 2013. Review of Monte Carlo modeling of light transport in tissues. Journal of biomedical optics, 18(5), p.050902.\n",
    "2. Wang, L., Jacques, S.L. and Zheng, L., 1995. MCML—Monte Carlo modeling of light transport in multi-layered tissues. Computer methods and programs in biomedicine, 47(2), pp.131-146.\n",
    "3. Bashkatov, A.N., Genina, E.A. and Tuchin, V.V., 2011. Optical properties of skin, subcutaneous, and muscle tissues: a review. Journal of Innovative Optical Health Sciences, 4(01), pp.9-38."
   ]
  }
 ],
 "metadata": {
  "kernelspec": {
   "display_name": "Python 3",
   "language": "python",
   "name": "python3"
  },
  "language_info": {
   "codemirror_mode": {
    "name": "ipython",
    "version": 3
   },
   "file_extension": ".py",
   "mimetype": "text/x-python",
   "name": "python",
   "nbconvert_exporter": "python",
   "pygments_lexer": "ipython3",
   "version": "3.8.3"
  }
 },
 "nbformat": 4,
 "nbformat_minor": 4
}
